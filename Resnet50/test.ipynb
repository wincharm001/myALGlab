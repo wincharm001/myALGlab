{
 "cells": [
  {
   "cell_type": "code",
   "execution_count": 53,
   "metadata": {},
   "outputs": [],
   "source": [
    "import numpy as np\n",
    "import torch\n",
    "import torch.nn as nn\n",
    "import torch.nn.functional as F\n",
    "import os\n",
    "import torchvision\n",
    "from torch.utils.data import DataLoader, Dataset, random_split\n",
    "from PIL import Image\n",
    "from tqdm import tqdm"
   ]
  },
  {
   "cell_type": "markdown",
   "metadata": {},
   "source": [
    "# 自定义数据集"
   ]
  },
  {
   "cell_type": "code",
   "execution_count": 105,
   "metadata": {},
   "outputs": [],
   "source": [
    "transform = torchvision.transforms.Compose({\n",
    "    torchvision.transforms.ToTensor(),\n",
    "    torchvision.transforms.Resize([224, 224])\n",
    "})\n",
    "\n",
    "\n",
    "class CustomDataset(Dataset):\n",
    "    def __init__(self, data_dir, transform=None):\n",
    "        self.data_dir = data_dir\n",
    "        self.transform = transform\n",
    "        self.classes = os.listdir(self.data_dir)\n",
    "        self.img_paths, self.labels = [], []\n",
    "\n",
    "        for i, cls in enumerate(self.classes):\n",
    "            cls_dir = os.path.join(self.data_dir, cls)\n",
    "            img_list = os.listdir(cls_dir)\n",
    "            self.img_paths.extend([os.path.join(cls_dir, img) for img in img_list])\n",
    "            self.labels.extend([i] * len(img_list))\n",
    "    \n",
    "    def __len__(self):\n",
    "        return len(self.labels)\n",
    "    \n",
    "    def __getitem__(self, index):\n",
    "        img_path = self.img_paths[index]\n",
    "        img = Image.open(img_path).convert('RGB')\n",
    "        label = self.labels[index]\n",
    "\n",
    "        if self.transform:\n",
    "            img = self.transform(img)\n",
    "\n",
    "        # # 进行one-hot编码\n",
    "        # one_hot_label = F.one_hot(torch.tensor([label]), num_classes=10)\n",
    "        # one_hot_label = one_hot_label.to(torch.float32)\n",
    "        return img, label\n",
    "\n",
    "    def labelsname(self, i):\n",
    "        \"\"\"返回 0 ~ 9 号所对应的标签名\"\"\"\n",
    "        return self.classes[i]\n",
    "\n",
    "\n",
    "DATA_PATH = '../../DATASETS/animal10_classification/raw-img/'\n",
    "dataset = CustomDataset(DATA_PATH, transform)\n",
    "train_data, valid_data = random_split(dataset, [0.8, 0.2])  # generator类用于管理生成器随机种子\n",
    "# train: 20944, valid: 5235"
   ]
  },
  {
   "cell_type": "markdown",
   "metadata": {},
   "source": [
    "# 模型"
   ]
  },
  {
   "cell_type": "code",
   "execution_count": 93,
   "metadata": {},
   "outputs": [],
   "source": [
    "class Bottleneck(nn.Module):\n",
    "    expansion = 4\n",
    "\n",
    "    def __init__(self, in_channels, out_channels, downsample=False):\n",
    "        super().__init__()\n",
    "        self.conv1 = nn.Conv2d(in_channels, out_channels, kernel_size=(1, 1), stride=1, bias=False)\n",
    "        self.bn1 = nn.BatchNorm2d(out_channels)\n",
    "        self.conv2 = nn.Conv2d(out_channels, out_channels, kernel_size=(3, 3), stride=1, padding=1, bias=False)\n",
    "        self.bn2 = nn.BatchNorm2d(out_channels)\n",
    "        self.conv3 = nn.Conv2d(out_channels, out_channels * self.expansion, kernel_size=(1, 1), stride=1, bias=False)\n",
    "        self.bn3 = nn.BatchNorm2d(out_channels * self.expansion)\n",
    "        self.relu = nn.ReLU(inplace=True)\n",
    "        if downsample:\n",
    "            if out_channels == 64:\n",
    "                stride = 1\n",
    "                self.downsample = nn.Sequential(\n",
    "                    nn.Conv2d(in_channels, out_channels * self.expansion, kernel_size=(1, 1), stride=stride, bias=False),\n",
    "                    nn.BatchNorm2d(out_channels * self.expansion)\n",
    "                    )\n",
    "            else:\n",
    "                self.downsample = nn.Sequential(\n",
    "                    nn.Conv2d(in_channels, out_channels * self.expansion, kernel_size=(1, 1), stride=1, bias=False),\n",
    "                    nn.BatchNorm2d(out_channels * self.expansion)\n",
    "                    )\n",
    "        else:\n",
    "            self.downsample = None\n",
    "\n",
    "    def forward(self, x):\n",
    "        identity = x\n",
    "\n",
    "        out = self.conv1(x)\n",
    "        out = self.bn1(out)\n",
    "        out = self.relu(out)\n",
    "\n",
    "        out = self.conv2(out)\n",
    "        out = self.bn2(out)\n",
    "        out = self.relu(out)\n",
    "\n",
    "        out = self.conv3(out)\n",
    "        out = self.bn3(out)\n",
    "\n",
    "        if self.downsample is not None:\n",
    "            identity = self.downsample(x)\n",
    "        \n",
    "        out += identity  # 残差连接\n",
    "        out = self.relu(out)\n",
    "\n",
    "        return out\n",
    "\n",
    "\n",
    "class resnet50(nn.Module):\n",
    "    def __init__(self, in_channels, backbone=False, num_classes=0):\n",
    "        super().__init__()\n",
    "        self.conv1 = nn.Conv2d(in_channels, 64, kernel_size=(7, 7), stride=2, padding=(3, 3), bias=False)\n",
    "        self.bn1 = nn.BatchNorm2d(64)\n",
    "        self.relu = nn.ReLU(inplace=True)\n",
    "        self.maxpool = nn.MaxPool2d(kernel_size=3, stride=2, padding=1, dilation=1, ceil_mode=False)\n",
    "\n",
    "        self.layer1 = nn.Sequential(\n",
    "            Bottleneck(64, 64, True),\n",
    "            Bottleneck(256, 64, False),\n",
    "            Bottleneck(256, 64, False)\n",
    "        )\n",
    "        self.layer2 = nn.Sequential(\n",
    "            Bottleneck(256, 128, True),\n",
    "            Bottleneck(512, 128, False),\n",
    "            Bottleneck(512, 128, False),\n",
    "            Bottleneck(512, 128, False)\n",
    "        )\n",
    "        self.layer3 = nn.Sequential(\n",
    "            Bottleneck(512, 256, True),\n",
    "            Bottleneck(1024, 256, False),\n",
    "            Bottleneck(1024, 256, False),\n",
    "            Bottleneck(1024, 256, False),\n",
    "            Bottleneck(1024, 256, False),\n",
    "            Bottleneck(1024, 256, False)\n",
    "        )\n",
    "        self.layer4 = nn.Sequential(\n",
    "            Bottleneck(1024, 512, True),\n",
    "            Bottleneck(2048, 512, False),\n",
    "            Bottleneck(2048, 512, False)\n",
    "        )\n",
    "\n",
    "        if not backbone:\n",
    "            self.avgpool = nn.AdaptiveAvgPool2d((1, 1))\n",
    "            # [N, C, H, W] -> [N, C, 1, 1] 即一个批次中，对每份样本，在不同的通道层面上进行二维平均池化\n",
    "            self.fc = nn.Linear(in_features=2048, out_features=num_classes, bias=True)\n",
    "            self.softmax = nn.Softmax(dim=3)\n",
    "        else:\n",
    "            self.fc = None\n",
    "        \n",
    "    def forward(self, x):\n",
    "        out = self.conv1(x)\n",
    "        out = self.bn1(out)\n",
    "        out = self.relu(out)\n",
    "        out = self.maxpool(out)\n",
    "\n",
    "        out = self.layer1(out)\n",
    "        out = self.layer2(out)\n",
    "        out = self.layer3(out)\n",
    "        out = self.layer4(out)\n",
    "\n",
    "        out = self.avgpool(out)\n",
    "        if self.fc is not None:\n",
    "            out = out.permute(0, 3, 2, 1)\n",
    "            out = self.fc(out)\n",
    "            out = self.softmax(out)\n",
    "        \n",
    "        return out"
   ]
  },
  {
   "cell_type": "markdown",
   "metadata": {},
   "source": [
    "# 相关设置"
   ]
  },
  {
   "cell_type": "code",
   "execution_count": 106,
   "metadata": {},
   "outputs": [],
   "source": [
    "epochs = 100\n",
    "lr = 3e-3\n",
    "weight_decay = 3e-3\n",
    "bs = 2\n",
    "loss_list = []  # 存储每个 epoch 的损失\n",
    "model_path = '../../DATASETS/animal10_classification/weights_resnet50/'  # 模型存储路径\n",
    "\n",
    "model = resnet50(3, num_classes=10, backbone=False)\n",
    "device = torch.device(\"cuda\" if torch.cuda.is_available() else \"cpu\")\n",
    "model.to(device)\n",
    "\n",
    "train_loader = DataLoader(train_data, batch_size=bs, shuffle=True)\n",
    "valid_loader = DataLoader(valid_data, batch_size=bs)\n",
    "optimizier = torch.optim.Adam(model.parameters(), lr=lr, weight_decay=weight_decay)\n",
    "loss_func = nn.CrossEntropyLoss()"
   ]
  },
  {
   "cell_type": "markdown",
   "metadata": {},
   "source": [
    "# 训练"
   ]
  },
  {
   "cell_type": "code",
   "execution_count": 107,
   "metadata": {},
   "outputs": [
    {
     "name": "stderr",
     "output_type": "stream",
     "text": [
      "Epoch 1/100:   0%|          | 0/10472 [00:00<?, ?it/s, loss=0, lr=0, bs=2]"
     ]
    },
    {
     "name": "stdout",
     "output_type": "stream",
     "text": [
      "tensor([[0.1164, 0.1120, 0.0592, 0.1870, 0.1712, 0.0782, 0.0832, 0.0395, 0.0854,\n",
      "         0.0678],\n",
      "        [0.1047, 0.1255, 0.0493, 0.1889, 0.2097, 0.0908, 0.0835, 0.0275, 0.0742,\n",
      "         0.0459]], grad_fn=<SqueezeBackward0>)\n",
      "tensor([8, 5])\n"
     ]
    },
    {
     "name": "stderr",
     "output_type": "stream",
     "text": [
      "Epoch 1/100:   0%|          | 1/10472 [00:04<13:49:28,  4.75s/it, loss=2.32, lr=0.003, bs=2]"
     ]
    },
    {
     "name": "stdout",
     "output_type": "stream",
     "text": [
      "tensor([[7.6341e-04, 9.5941e-04, 6.4535e-04, 1.0621e-03, 1.0151e-03, 4.7797e-01,\n",
      "         7.3332e-04, 5.2015e-04, 5.1565e-01, 6.8080e-04],\n",
      "        [6.1238e-04, 7.2805e-04, 5.3433e-04, 7.3080e-04, 8.6744e-04, 4.0951e-01,\n",
      "         6.1365e-04, 4.2443e-04, 5.8547e-01, 5.0893e-04]],\n",
      "       grad_fn=<SqueezeBackward0>)\n",
      "tensor([8, 7])\n"
     ]
    },
    {
     "name": "stderr",
     "output_type": "stream",
     "text": [
      "Epoch 1/100:   0%|          | 1/10472 [00:09<27:07:03,  9.32s/it, loss=2.32, lr=0.003, bs=2]\n"
     ]
    },
    {
     "ename": "KeyboardInterrupt",
     "evalue": "",
     "output_type": "error",
     "traceback": [
      "\u001b[1;31m---------------------------------------------------------------------------\u001b[0m",
      "\u001b[1;31mKeyboardInterrupt\u001b[0m                         Traceback (most recent call last)",
      "Cell \u001b[1;32mIn[107], line 24\u001b[0m\n\u001b[0;32m     22\u001b[0m \u001b[38;5;66;03m# 反向传播更新参数\u001b[39;00m\n\u001b[0;32m     23\u001b[0m optimizier\u001b[38;5;241m.\u001b[39mzero_grad()\n\u001b[1;32m---> 24\u001b[0m \u001b[43mloss\u001b[49m\u001b[38;5;241;43m.\u001b[39;49m\u001b[43mbackward\u001b[49m\u001b[43m(\u001b[49m\u001b[43m)\u001b[49m\n\u001b[0;32m     25\u001b[0m optimizier\u001b[38;5;241m.\u001b[39mstep()\n\u001b[0;32m     27\u001b[0m \u001b[38;5;66;03m# 记录当前批次的损失\u001b[39;00m\n",
      "File \u001b[1;32md:\\Users\\wincharm\\anaconda3\\envs\\cv\\lib\\site-packages\\torch\\_tensor.py:487\u001b[0m, in \u001b[0;36mTensor.backward\u001b[1;34m(self, gradient, retain_graph, create_graph, inputs)\u001b[0m\n\u001b[0;32m    477\u001b[0m \u001b[38;5;28;01mif\u001b[39;00m has_torch_function_unary(\u001b[38;5;28mself\u001b[39m):\n\u001b[0;32m    478\u001b[0m     \u001b[38;5;28;01mreturn\u001b[39;00m handle_torch_function(\n\u001b[0;32m    479\u001b[0m         Tensor\u001b[38;5;241m.\u001b[39mbackward,\n\u001b[0;32m    480\u001b[0m         (\u001b[38;5;28mself\u001b[39m,),\n\u001b[1;32m   (...)\u001b[0m\n\u001b[0;32m    485\u001b[0m         inputs\u001b[38;5;241m=\u001b[39minputs,\n\u001b[0;32m    486\u001b[0m     )\n\u001b[1;32m--> 487\u001b[0m \u001b[43mtorch\u001b[49m\u001b[38;5;241;43m.\u001b[39;49m\u001b[43mautograd\u001b[49m\u001b[38;5;241;43m.\u001b[39;49m\u001b[43mbackward\u001b[49m\u001b[43m(\u001b[49m\n\u001b[0;32m    488\u001b[0m \u001b[43m    \u001b[49m\u001b[38;5;28;43mself\u001b[39;49m\u001b[43m,\u001b[49m\u001b[43m \u001b[49m\u001b[43mgradient\u001b[49m\u001b[43m,\u001b[49m\u001b[43m \u001b[49m\u001b[43mretain_graph\u001b[49m\u001b[43m,\u001b[49m\u001b[43m \u001b[49m\u001b[43mcreate_graph\u001b[49m\u001b[43m,\u001b[49m\u001b[43m \u001b[49m\u001b[43minputs\u001b[49m\u001b[38;5;241;43m=\u001b[39;49m\u001b[43minputs\u001b[49m\n\u001b[0;32m    489\u001b[0m \u001b[43m\u001b[49m\u001b[43m)\u001b[49m\n",
      "File \u001b[1;32md:\\Users\\wincharm\\anaconda3\\envs\\cv\\lib\\site-packages\\torch\\autograd\\__init__.py:200\u001b[0m, in \u001b[0;36mbackward\u001b[1;34m(tensors, grad_tensors, retain_graph, create_graph, grad_variables, inputs)\u001b[0m\n\u001b[0;32m    195\u001b[0m     retain_graph \u001b[38;5;241m=\u001b[39m create_graph\n\u001b[0;32m    197\u001b[0m \u001b[38;5;66;03m# The reason we repeat same the comment below is that\u001b[39;00m\n\u001b[0;32m    198\u001b[0m \u001b[38;5;66;03m# some Python versions print out the first line of a multi-line function\u001b[39;00m\n\u001b[0;32m    199\u001b[0m \u001b[38;5;66;03m# calls in the traceback and some print out the last line\u001b[39;00m\n\u001b[1;32m--> 200\u001b[0m \u001b[43mVariable\u001b[49m\u001b[38;5;241;43m.\u001b[39;49m\u001b[43m_execution_engine\u001b[49m\u001b[38;5;241;43m.\u001b[39;49m\u001b[43mrun_backward\u001b[49m\u001b[43m(\u001b[49m\u001b[43m  \u001b[49m\u001b[38;5;66;43;03m# Calls into the C++ engine to run the backward pass\u001b[39;49;00m\n\u001b[0;32m    201\u001b[0m \u001b[43m    \u001b[49m\u001b[43mtensors\u001b[49m\u001b[43m,\u001b[49m\u001b[43m \u001b[49m\u001b[43mgrad_tensors_\u001b[49m\u001b[43m,\u001b[49m\u001b[43m \u001b[49m\u001b[43mretain_graph\u001b[49m\u001b[43m,\u001b[49m\u001b[43m \u001b[49m\u001b[43mcreate_graph\u001b[49m\u001b[43m,\u001b[49m\u001b[43m \u001b[49m\u001b[43minputs\u001b[49m\u001b[43m,\u001b[49m\n\u001b[0;32m    202\u001b[0m \u001b[43m    \u001b[49m\u001b[43mallow_unreachable\u001b[49m\u001b[38;5;241;43m=\u001b[39;49m\u001b[38;5;28;43;01mTrue\u001b[39;49;00m\u001b[43m,\u001b[49m\u001b[43m \u001b[49m\u001b[43maccumulate_grad\u001b[49m\u001b[38;5;241;43m=\u001b[39;49m\u001b[38;5;28;43;01mTrue\u001b[39;49;00m\u001b[43m)\u001b[49m\n",
      "\u001b[1;31mKeyboardInterrupt\u001b[0m: "
     ]
    }
   ],
   "source": [
    "for epoch in range(1, epochs + 1):\n",
    "    pbar = tqdm(train_loader, desc=f'Epoch {epoch}/{epochs}')\n",
    "    running_loss = 0.0\n",
    "    info = {\n",
    "        'loss': 0,\n",
    "        'lr': 0,\n",
    "        'bs': bs\n",
    "    }  # 训练过程中打印的信息\n",
    "    for img, label in pbar:\n",
    "        pbar.set_postfix(info)\n",
    "        img, label = img.to(device), label.to(device)\n",
    "        pred = model(img)\n",
    "        pred = torch.squeeze(pred)\n",
    "        loss = loss_func(pred, label)  # pred: 2-D[N, C]  target: 1-D[N]\n",
    "\n",
    "        info['loss'] = loss.item()\n",
    "        info['lr'] = optimizier.param_groups[0]['lr']\n",
    "\n",
    "        # 反向传播更新参数\n",
    "        optimizier.zero_grad()\n",
    "        loss.backward()\n",
    "        optimizier.step()\n",
    "        \n",
    "        # 记录当前批次的损失\n",
    "        running_loss += loss.item()\n",
    "\n",
    "    epoch_loss = running_loss / len(train_data)\n",
    "    loss_list.append(epoch_loss)\n",
    "    # 存储模型\n",
    "    if epoch_loss < min(loss_list):\n",
    "        torch.save(model.state_dict(), model_path + 'best.pth')\n",
    "    torch.save(model.state_dict(), model_path + 'last.pth')"
   ]
  }
 ],
 "metadata": {
  "kernelspec": {
   "display_name": "cv",
   "language": "python",
   "name": "python3"
  },
  "language_info": {
   "codemirror_mode": {
    "name": "ipython",
    "version": 3
   },
   "file_extension": ".py",
   "mimetype": "text/x-python",
   "name": "python",
   "nbconvert_exporter": "python",
   "pygments_lexer": "ipython3",
   "version": "3.9.16"
  }
 },
 "nbformat": 4,
 "nbformat_minor": 2
}
