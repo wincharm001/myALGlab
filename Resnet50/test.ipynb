{
 "cells": [
  {
   "cell_type": "code",
   "execution_count": 2,
   "metadata": {},
   "outputs": [],
   "source": [
    "import numpy as np\n",
    "import torch\n",
    "import torch.nn as nn\n",
    "import os"
   ]
  },
  {
   "cell_type": "code",
   "execution_count": 3,
   "metadata": {},
   "outputs": [
    {
     "data": {
      "text/plain": [
       "['cane',\n",
       " 'cavallo',\n",
       " 'elefante',\n",
       " 'farfalla',\n",
       " 'gallina',\n",
       " 'gatto',\n",
       " 'mucca',\n",
       " 'pecora',\n",
       " 'ragno',\n",
       " 'scoiattolo']"
      ]
     },
     "execution_count": 3,
     "metadata": {},
     "output_type": "execute_result"
    }
   ],
   "source": [
    "os.listdir('../../../DATASETS/animal10_classification/raw-img/')"
   ]
  },
  {
   "cell_type": "code",
   "execution_count": 4,
   "metadata": {},
   "outputs": [],
   "source": [
    "class Bottleneck(nn.Module):\n",
    "    expansion = 4\n",
    "\n",
    "    def __init__(self, in_channels, out_channels, downsample=False):\n",
    "        super().__init__()\n",
    "        self.conv1 = nn.Conv2d(in_channels, out_channels, kernel_size=(1, 1), stride=1, bias=False)\n",
    "        self.bn1 = nn.BatchNorm2d(out_channels)\n",
    "        self.conv2 = nn.Conv2d(out_channels, out_channels, kernel_size=(3, 3), stride=1, bias=False)\n",
    "        self.bn2 = nn.BatchNorm2d(out_channels)\n",
    "        self.conv3 = nn.Conv2d(out_channels, out_channels * self.expansion, kernel_size=(1, 1), stride=1, bias=False)\n",
    "        self.bn3 = nn.BatchNorm2d(out_channels * self.expansion)\n",
    "        self.relu = nn.ReLU(inplace=True)\n",
    "        if downsample:\n",
    "            if out_channels == 64:\n",
    "                stride = 2\n",
    "                self.downsample = nn.Sequential(\n",
    "                    nn.Conv2d(in_channels, out_channels * self.expansion, kernel_size=(1, 1), stride=stride, bias=False),\n",
    "                    nn.BatchNorm2d(out_channels * self.expansion)\n",
    "                    )\n",
    "            else:\n",
    "                self.downsample = nn.Sequential(\n",
    "                    nn.Conv2d(in_channels, out_channels * self.expansion, kernel_size=(1, 1), stride=1, bias=False),\n",
    "                    nn.BatchNorm2d(out_channels * self.expansion)\n",
    "                    )\n",
    "        else:\n",
    "            self.downsample = None\n",
    "\n",
    "    def forward(self, x):\n",
    "        identity = x\n",
    "\n",
    "        out = self.conv1(x)\n",
    "        out = self.bn1(out)\n",
    "        out = self.relu(out)\n",
    "\n",
    "        out = self.conv2(out)\n",
    "        out = self.bn2(out)\n",
    "        out = self.relu(out)\n",
    "\n",
    "        out = self.conv3(out)\n",
    "        out = self.bn3(out)\n",
    "\n",
    "        if self.downsample is not None:\n",
    "            identity = self.downsample(x)\n",
    "        \n",
    "        out += identity  # 残差连接\n",
    "        out = self.relu(out)\n",
    "\n",
    "        return out\n",
    "\n",
    "\n",
    "class resnet50(nn.Module):\n",
    "    def __init__(self, in_channels, backbone=False, num_classes=0):\n",
    "        super().__init__()\n",
    "        self.conv1 = nn.Conv2d(in_channels, 64, kernel_size=(7, 7), stride=2, padding=(3, 3), bias=False)\n",
    "        self.bn1 = nn.BatchNorm2d(64)\n",
    "        self.relu = nn.ReLU(inplace=True)\n",
    "        self.maxpool = nn.MaxPool2d(kernel_size=3, stride=2, padding=1, dilation=1, ceil_mode=False)\n",
    "\n",
    "        self.layer1 = nn.Sequential(\n",
    "            Bottleneck(64, 64, True),\n",
    "            Bottleneck(256, 64, False),\n",
    "            Bottleneck(256, 64, False)\n",
    "        )\n",
    "        self.layer2 = nn.Sequential(\n",
    "            Bottleneck(256, 128, True),\n",
    "            Bottleneck(512, 128, False),\n",
    "            Bottleneck(512, 128, False),\n",
    "            Bottleneck(512, 128, False)\n",
    "        )\n",
    "        self.layer3 = nn.Sequential(\n",
    "            Bottleneck(512, 256, True),\n",
    "            Bottleneck(1024, 256, False),\n",
    "            Bottleneck(1024, 256, False),\n",
    "            Bottleneck(1024, 256, False),\n",
    "            Bottleneck(1024, 256, False),\n",
    "            Bottleneck(1024, 256, False)\n",
    "        )\n",
    "        self.layer4 = nn.Sequential(\n",
    "            Bottleneck(1024, 512, True),\n",
    "            Bottleneck(2048, 512, False),\n",
    "            Bottleneck(2048, 512, False)\n",
    "        )\n",
    "\n",
    "        self.avgpool = nn.AdaptiveAvgPool2d((1, 1))\n",
    "        if not backbone:\n",
    "            self.fc = nn.Linear(in_features=2048, out_features=num_classes, bias=True)\n",
    "        else:\n",
    "            self.fc = None\n",
    "        \n",
    "    def forward(self, x):\n",
    "        out = self.conv1(x)\n",
    "        out = self.bn1(out)\n",
    "        out = self.relu(out)\n",
    "        out = self.maxpool(out)\n",
    "\n",
    "        out = self.layer1(out)\n",
    "        out = self.layer2(out)\n",
    "        out = self.layer3(out)\n",
    "        out = self.layer4(out)\n",
    "\n",
    "        out = self.avgpool(out)\n",
    "        if self.fc is not None:\n",
    "            out = self.fc(out)\n",
    "        \n",
    "        return out"
   ]
  },
  {
   "cell_type": "code",
   "execution_count": 5,
   "metadata": {},
   "outputs": [],
   "source": [
    "model = resnet50(3, num_classes=10)"
   ]
  }
 ],
 "metadata": {
  "kernelspec": {
   "display_name": "cv",
   "language": "python",
   "name": "python3"
  },
  "language_info": {
   "codemirror_mode": {
    "name": "ipython",
    "version": 3
   },
   "file_extension": ".py",
   "mimetype": "text/x-python",
   "name": "python",
   "nbconvert_exporter": "python",
   "pygments_lexer": "ipython3",
   "version": "3.9.16"
  }
 },
 "nbformat": 4,
 "nbformat_minor": 2
}
